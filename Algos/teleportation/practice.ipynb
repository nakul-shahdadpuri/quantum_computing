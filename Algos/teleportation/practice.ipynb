{
 "cells": [
  {
   "cell_type": "code",
   "execution_count": 1,
   "metadata": {},
   "outputs": [],
   "source": [
    "from qiskit import QuantumCircuit, QuantumRegister"
   ]
  },
  {
   "cell_type": "code",
   "execution_count": 2,
   "metadata": {},
   "outputs": [],
   "source": [
    "input_bit = QuantumRegister(1,'input')\n",
    "output_bit = QuantumRegister(1,'output')\n",
    "garbage_bit = QuantumRegister(1,'garbage')"
   ]
  },
  {
   "cell_type": "code",
   "execution_count": 4,
   "metadata": {},
   "outputs": [
    {
     "data": {
      "text/html": [
       "<pre style=\"word-wrap: normal;white-space: pre;background: #fff0;line-height: 1.1;font-family: &quot;Courier New&quot;,Courier,monospace\">                \n",
       "  input_0: ──■──\n",
       "           ┌─┴─┐\n",
       " output_0: ┤ X ├\n",
       "           └───┘\n",
       "garbage_0: ─────\n",
       "                </pre>"
      ],
      "text/plain": [
       "                \n",
       "  input_0: ──■──\n",
       "           ┌─┴─┐\n",
       " output_0: ┤ X ├\n",
       "           └───┘\n",
       "garbage_0: ─────\n",
       "                "
      ]
     },
     "execution_count": 4,
     "metadata": {},
     "output_type": "execute_result"
    }
   ],
   "source": [
    "ufc = QuantumCircuit(input_bit,output_bit,garbage_bit)\n",
    "ufc.cx(input_bit[0],output_bit[0])\n",
    "ufc.draw()"
   ]
  },
  {
   "cell_type": "code",
   "execution_count": 6,
   "metadata": {},
   "outputs": [
    {
     "data": {
      "text/html": [
       "<pre style=\"word-wrap: normal;white-space: pre;background: #fff0;line-height: 1.1;font-family: &quot;Courier New&quot;,Courier,monospace\">                     \n",
       "  input_0: ──■────■──\n",
       "             │  ┌─┴─┐\n",
       " output_0: ──┼──┤ X ├\n",
       "           ┌─┴─┐└───┘\n",
       "garbage_0: ┤ X ├─────\n",
       "           └───┘     </pre>"
      ],
      "text/plain": [
       "                     \n",
       "  input_0: ──■────■──\n",
       "             │  ┌─┴─┐\n",
       " output_0: ──┼──┤ X ├\n",
       "           ┌─┴─┐└───┘\n",
       "garbage_0: ┤ X ├─────\n",
       "           └───┘     "
      ]
     },
     "execution_count": 6,
     "metadata": {},
     "output_type": "execute_result"
    }
   ],
   "source": [
    "vf = QuantumCircuit(input_bit,output_bit,garbage_bit)\n",
    "vf.cx(input_bit[0],garbage_bit[0])\n",
    "vf.cx(input_bit[0],output_bit[0])\n",
    "vf.draw()"
   ]
  },
  {
   "cell_type": "code",
   "execution_count": 9,
   "metadata": {
    "scrolled": true
   },
   "outputs": [],
   "source": [
    "qc = ufc + vf.inverse()"
   ]
  },
  {
   "cell_type": "code",
   "execution_count": 10,
   "metadata": {},
   "outputs": [
    {
     "data": {
      "text/html": [
       "<pre style=\"word-wrap: normal;white-space: pre;background: #fff0;line-height: 1.1;font-family: &quot;Courier New&quot;,Courier,monospace\">                          \n",
       "  input_0: ──■────■────■──\n",
       "           ┌─┴─┐┌─┴─┐  │  \n",
       " output_0: ┤ X ├┤ X ├──┼──\n",
       "           └───┘└───┘┌─┴─┐\n",
       "garbage_0: ──────────┤ X ├\n",
       "                     └───┘</pre>"
      ],
      "text/plain": [
       "                          \n",
       "  input_0: ──■────■────■──\n",
       "           ┌─┴─┐┌─┴─┐  │  \n",
       " output_0: ┤ X ├┤ X ├──┼──\n",
       "           └───┘└───┘┌─┴─┐\n",
       "garbage_0: ──────────┤ X ├\n",
       "                     └───┘"
      ]
     },
     "execution_count": 10,
     "metadata": {},
     "output_type": "execute_result"
    }
   ],
   "source": [
    "qc.draw()"
   ]
  },
  {
   "cell_type": "code",
   "execution_count": null,
   "metadata": {},
   "outputs": [],
   "source": []
  }
 ],
 "metadata": {
  "kernelspec": {
   "display_name": "Python 3",
   "language": "python",
   "name": "python3"
  },
  "language_info": {
   "codemirror_mode": {
    "name": "ipython",
    "version": 3
   },
   "file_extension": ".py",
   "mimetype": "text/x-python",
   "name": "python",
   "nbconvert_exporter": "python",
   "pygments_lexer": "ipython3",
   "version": "3.9.1"
  }
 },
 "nbformat": 4,
 "nbformat_minor": 4
}
