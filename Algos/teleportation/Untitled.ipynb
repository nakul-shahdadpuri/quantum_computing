{
 "cells": [
  {
   "cell_type": "code",
   "execution_count": 31,
   "metadata": {},
   "outputs": [],
   "source": [
    "from qiskit import QuantumCircuit, Aer, assemble\n",
    "from math import pi\n",
    "import numpy as np\n",
    "from qiskit.visualization import plot_histogram, plot_bloch_multivector"
   ]
  },
  {
   "cell_type": "code",
   "execution_count": 32,
   "metadata": {},
   "outputs": [],
   "source": [
    "qc = QuantumCircuit(2)"
   ]
  },
  {
   "cell_type": "code",
   "execution_count": 33,
   "metadata": {},
   "outputs": [
    {
     "data": {
      "text/html": [
       "<pre style=\"word-wrap: normal;white-space: pre;background: #fff0;line-height: 1.1;font-family: &quot;Courier New&quot;,Courier,monospace\">     \n",
       "q_0: \n",
       "     \n",
       "q_1: \n",
       "     </pre>"
      ],
      "text/plain": [
       "     \n",
       "q_0: \n",
       "     \n",
       "q_1: \n",
       "     "
      ]
     },
     "execution_count": 33,
     "metadata": {},
     "output_type": "execute_result"
    }
   ],
   "source": [
    "qc.draw()"
   ]
  },
  {
   "cell_type": "code",
   "execution_count": 34,
   "metadata": {},
   "outputs": [
    {
     "data": {
      "text/plain": [
       "<qiskit.circuit.instructionset.InstructionSet at 0x7fcc8c2ca310>"
      ]
     },
     "execution_count": 34,
     "metadata": {},
     "output_type": "execute_result"
    }
   ],
   "source": [
    "qc.h(0)\n",
    "qc.cx(0,1)\n",
    "qc.x(1)"
   ]
  },
  {
   "cell_type": "code",
   "execution_count": 35,
   "metadata": {},
   "outputs": [
    {
     "data": {
      "text/html": [
       "<pre style=\"word-wrap: normal;white-space: pre;background: #fff0;line-height: 1.1;font-family: &quot;Courier New&quot;,Courier,monospace\">     ┌───┐          \n",
       "q_0: ┤ H ├──■───────\n",
       "     └───┘┌─┴─┐┌───┐\n",
       "q_1: ─────┤ X ├┤ X ├\n",
       "          └───┘└───┘</pre>"
      ],
      "text/plain": [
       "     ┌───┐          \n",
       "q_0: ┤ H ├──■───────\n",
       "     └───┘┌─┴─┐┌───┐\n",
       "q_1: ─────┤ X ├┤ X ├\n",
       "          └───┘└───┘"
      ]
     },
     "execution_count": 35,
     "metadata": {},
     "output_type": "execute_result"
    }
   ],
   "source": [
    "qc.draw()"
   ]
  },
  {
   "cell_type": "code",
   "execution_count": 26,
   "metadata": {},
   "outputs": [
    {
     "data": {
      "text/html": [
       "<pre style=\"word-wrap: normal;white-space: pre;background: #fff0;line-height: 1.1;font-family: &quot;Courier New&quot;,Courier,monospace\">     ┌───┐     \n",
       "q_0: ┤ H ├──■──\n",
       "     └───┘┌─┴─┐\n",
       "q_1: ─────┤ X ├\n",
       "          └───┘</pre>"
      ],
      "text/plain": [
       "     ┌───┐     \n",
       "q_0: ┤ H ├──■──\n",
       "     └───┘┌─┴─┐\n",
       "q_1: ─────┤ X ├\n",
       "          └───┘"
      ]
     },
     "execution_count": 26,
     "metadata": {},
     "output_type": "execute_result"
    }
   ],
   "source": []
  },
  {
   "cell_type": "code",
   "execution_count": 36,
   "metadata": {},
   "outputs": [],
   "source": [
    "svsim = Aer.get_backend('statevector_simulator')\n",
    "qobj = assemble(qc)\n",
    "final_state = svsim.run(qobj).result().get_statevector()\n"
   ]
  },
  {
   "cell_type": "code",
   "execution_count": 37,
   "metadata": {},
   "outputs": [
    {
     "data": {
      "text/plain": [
       "array([0.        +0.j, 0.70710678+0.j, 0.70710678+0.j, 0.        +0.j])"
      ]
     },
     "execution_count": 37,
     "metadata": {},
     "output_type": "execute_result"
    }
   ],
   "source": [
    "final_state"
   ]
  },
  {
   "cell_type": "code",
   "execution_count": 10,
   "metadata": {},
   "outputs": [
    {
     "data": {
      "text/html": [
       "<pre style=\"word-wrap: normal;white-space: pre;background: #fff0;line-height: 1.1;font-family: &quot;Courier New&quot;,Courier,monospace\">     ┌───┐     \n",
       "q_0: ┤ H ├──■──\n",
       "     └───┘┌─┴─┐\n",
       "q_1: ─────┤ X ├\n",
       "     ┌───┐├───┤\n",
       "q_2: ┤ X ├┤ H ├\n",
       "     └───┘└───┘\n",
       "q_3: ──────────\n",
       "               \n",
       "q_4: ──────────\n",
       "               </pre>"
      ],
      "text/plain": [
       "     ┌───┐     \n",
       "q_0: ┤ H ├──■──\n",
       "     └───┘┌─┴─┐\n",
       "q_1: ─────┤ X ├\n",
       "     ┌───┐├───┤\n",
       "q_2: ┤ X ├┤ H ├\n",
       "     └───┘└───┘\n",
       "q_3: ──────────\n",
       "               \n",
       "q_4: ──────────\n",
       "               "
      ]
     },
     "execution_count": 10,
     "metadata": {},
     "output_type": "execute_result"
    }
   ],
   "source": []
  },
  {
   "cell_type": "code",
   "execution_count": 11,
   "metadata": {},
   "outputs": [
    {
     "data": {
      "text/html": [
       "<pre style=\"word-wrap: normal;white-space: pre;background: #fff0;line-height: 1.1;font-family: &quot;Courier New&quot;,Courier,monospace\">     ┌───┐               \n",
       "q_0: ┤ H ├──■────────────\n",
       "     └───┘┌─┴─┐          \n",
       "q_1: ─────┤ X ├───────■──\n",
       "     ┌───┐├───┤     ┌─┴─┐\n",
       "q_2: ┤ X ├┤ H ├──■──┤ X ├\n",
       "     └───┘└───┘┌─┴─┐└───┘\n",
       "q_3: ──────────┤ X ├─────\n",
       "               └───┘     \n",
       "q_4: ────────────────────\n",
       "                         </pre>"
      ],
      "text/plain": [
       "     ┌───┐               \n",
       "q_0: ┤ H ├──■────────────\n",
       "     └───┘┌─┴─┐          \n",
       "q_1: ─────┤ X ├───────■──\n",
       "     ┌───┐├───┤     ┌─┴─┐\n",
       "q_2: ┤ X ├┤ H ├──■──┤ X ├\n",
       "     └───┘└───┘┌─┴─┐└───┘\n",
       "q_3: ──────────┤ X ├─────\n",
       "               └───┘     \n",
       "q_4: ────────────────────\n",
       "                         "
      ]
     },
     "execution_count": 11,
     "metadata": {},
     "output_type": "execute_result"
    }
   ],
   "source": []
  },
  {
   "cell_type": "code",
   "execution_count": 12,
   "metadata": {},
   "outputs": [],
   "source": [
    "svsim = Aer.get_backend('statevector_simulator')\n",
    "qobj = assemble(qc)\n",
    "final_state = svsim.run(qobj).result().get_statevector()\n",
    "\n"
   ]
  },
  {
   "cell_type": "code",
   "execution_count": 13,
   "metadata": {},
   "outputs": [
    {
     "data": {
      "text/plain": [
       "array([ 0.5-6.123234e-17j,  0. +0.000000e+00j,  0. +0.000000e+00j,\n",
       "        0. +0.000000e+00j,  0. +0.000000e+00j,  0. +0.000000e+00j,\n",
       "        0. +0.000000e+00j,  0.5-6.123234e-17j,  0. +0.000000e+00j,\n",
       "        0. +0.000000e+00j,  0. +0.000000e+00j, -0.5+6.123234e-17j,\n",
       "       -0.5+6.123234e-17j,  0. +0.000000e+00j,  0. +0.000000e+00j,\n",
       "        0. +0.000000e+00j,  0. +0.000000e+00j,  0. +0.000000e+00j,\n",
       "        0. +0.000000e+00j,  0. +0.000000e+00j,  0. +0.000000e+00j,\n",
       "        0. +0.000000e+00j,  0. +0.000000e+00j,  0. +0.000000e+00j,\n",
       "        0. +0.000000e+00j,  0. +0.000000e+00j,  0. +0.000000e+00j,\n",
       "        0. +0.000000e+00j,  0. +0.000000e+00j,  0. +0.000000e+00j,\n",
       "        0. +0.000000e+00j,  0. +0.000000e+00j])"
      ]
     },
     "execution_count": 13,
     "metadata": {},
     "output_type": "execute_result"
    }
   ],
   "source": [
    "final_state"
   ]
  },
  {
   "cell_type": "code",
   "execution_count": 16,
   "metadata": {},
   "outputs": [],
   "source": [
    "usim = Aer.get_backend('unitary_simulator')\n",
    "qobj = assemble(qc)\n",
    "unitary = usim.run(qobj).result().get_unitary()"
   ]
  },
  {
   "cell_type": "code",
   "execution_count": 17,
   "metadata": {},
   "outputs": [
    {
     "data": {
      "text/plain": [
       "array([[ 0.5-6.1232340e-17j,  0.5-1.2246468e-16j,  0. +0.0000000e+00j,\n",
       "        ...,  0. +0.0000000e+00j,  0. +0.0000000e+00j,\n",
       "         0. +0.0000000e+00j],\n",
       "       [ 0. +0.0000000e+00j,  0. +0.0000000e+00j,  0.5-6.1232340e-17j,\n",
       "        ...,  0. +0.0000000e+00j,  0. +0.0000000e+00j,\n",
       "         0. +0.0000000e+00j],\n",
       "       [ 0. +0.0000000e+00j,  0. +0.0000000e+00j,  0. +0.0000000e+00j,\n",
       "        ...,  0. +0.0000000e+00j,  0. +0.0000000e+00j,\n",
       "         0. +0.0000000e+00j],\n",
       "       ...,\n",
       "       [ 0. +0.0000000e+00j,  0. +0.0000000e+00j,  0. +0.0000000e+00j,\n",
       "        ...,  0. +0.0000000e+00j,  0. +0.0000000e+00j,\n",
       "         0. +0.0000000e+00j],\n",
       "       [ 0. +0.0000000e+00j,  0. +0.0000000e+00j,  0. +0.0000000e+00j,\n",
       "        ...,  0. +0.0000000e+00j,  0.5+0.0000000e+00j,\n",
       "         0.5-6.1232340e-17j],\n",
       "       [ 0. +0.0000000e+00j,  0. +0.0000000e+00j,  0. +0.0000000e+00j,\n",
       "        ..., -0.5+6.1232340e-17j,  0. +0.0000000e+00j,\n",
       "         0. +0.0000000e+00j]])"
      ]
     },
     "execution_count": 17,
     "metadata": {},
     "output_type": "execute_result"
    }
   ],
   "source": [
    "unitary"
   ]
  },
  {
   "cell_type": "code",
   "execution_count": null,
   "metadata": {},
   "outputs": [],
   "source": []
  }
 ],
 "metadata": {
  "kernelspec": {
   "display_name": "Python 3",
   "language": "python",
   "name": "python3"
  },
  "language_info": {
   "codemirror_mode": {
    "name": "ipython",
    "version": 3
   },
   "file_extension": ".py",
   "mimetype": "text/x-python",
   "name": "python",
   "nbconvert_exporter": "python",
   "pygments_lexer": "ipython3",
   "version": "3.8.7"
  }
 },
 "nbformat": 4,
 "nbformat_minor": 4
}
